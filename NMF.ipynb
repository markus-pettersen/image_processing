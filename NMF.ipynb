{
 "cells": [
  {
   "cell_type": "markdown",
   "id": "5fca127b",
   "metadata": {},
   "source": [
    "# Extension: Image Processing - NMF\n",
    "Using the LCD digits dataset, train a non-negative matrix factorisation (NMF) model to correctly identify the components digital numbers.\n",
    "## Set up\n",
    "Import the dataset and required modules"
   ]
  },
  {
   "cell_type": "code",
   "execution_count": 89,
   "id": "b8a001ce",
   "metadata": {},
   "outputs": [],
   "source": [
    "import numpy as np\n",
    "import matplotlib.pyplot as plt\n",
    "import pandas as pd\n",
    "\n",
    "from sklearn.decomposition import NMF"
   ]
  },
  {
   "cell_type": "markdown",
   "id": "9d724040",
   "metadata": {},
   "source": [
    "Load the LCD digits dataset as a pandas dataframe and assign to a variable <code>df</code>. The data contains information on 99 different LCD digits presented as a grey-scale image. Each column represents a pixel in a two by two array and each value measures the amount of white in a pixel."
   ]
  },
  {
   "cell_type": "code",
   "execution_count": 9,
   "id": "e9f7ea3c",
   "metadata": {},
   "outputs": [
    {
     "data": {
      "text/html": [
       "<div>\n",
       "<style scoped>\n",
       "    .dataframe tbody tr th:only-of-type {\n",
       "        vertical-align: middle;\n",
       "    }\n",
       "\n",
       "    .dataframe tbody tr th {\n",
       "        vertical-align: top;\n",
       "    }\n",
       "\n",
       "    .dataframe thead th {\n",
       "        text-align: right;\n",
       "    }\n",
       "</style>\n",
       "<table border=\"1\" class=\"dataframe\">\n",
       "  <thead>\n",
       "    <tr style=\"text-align: right;\">\n",
       "      <th></th>\n",
       "      <th>0.0</th>\n",
       "      <th>0.0.1</th>\n",
       "      <th>0.0.2</th>\n",
       "      <th>0.0.3</th>\n",
       "      <th>0.0.4</th>\n",
       "      <th>0.0.5</th>\n",
       "      <th>0.0.6</th>\n",
       "      <th>0.0.7</th>\n",
       "      <th>0.0.8</th>\n",
       "      <th>0.0.9</th>\n",
       "      <th>...</th>\n",
       "      <th>0.0.82</th>\n",
       "      <th>0.0.83</th>\n",
       "      <th>0.0.84</th>\n",
       "      <th>0.0.85</th>\n",
       "      <th>0.0.86</th>\n",
       "      <th>0.0.87</th>\n",
       "      <th>0.0.88</th>\n",
       "      <th>0.0.89</th>\n",
       "      <th>0.0.90</th>\n",
       "      <th>0.0.91</th>\n",
       "    </tr>\n",
       "  </thead>\n",
       "  <tbody>\n",
       "    <tr>\n",
       "      <th>0</th>\n",
       "      <td>0.0</td>\n",
       "      <td>0.0</td>\n",
       "      <td>0.0</td>\n",
       "      <td>0.0</td>\n",
       "      <td>0.0</td>\n",
       "      <td>0.0</td>\n",
       "      <td>0.0</td>\n",
       "      <td>0.0</td>\n",
       "      <td>0.0</td>\n",
       "      <td>0.0</td>\n",
       "      <td>...</td>\n",
       "      <td>0.0</td>\n",
       "      <td>0.0</td>\n",
       "      <td>0.0</td>\n",
       "      <td>0.0</td>\n",
       "      <td>0.0</td>\n",
       "      <td>0.0</td>\n",
       "      <td>0.0</td>\n",
       "      <td>0.0</td>\n",
       "      <td>0.0</td>\n",
       "      <td>0.0</td>\n",
       "    </tr>\n",
       "    <tr>\n",
       "      <th>1</th>\n",
       "      <td>0.0</td>\n",
       "      <td>0.0</td>\n",
       "      <td>0.0</td>\n",
       "      <td>0.0</td>\n",
       "      <td>0.0</td>\n",
       "      <td>0.0</td>\n",
       "      <td>0.0</td>\n",
       "      <td>0.0</td>\n",
       "      <td>0.0</td>\n",
       "      <td>0.0</td>\n",
       "      <td>...</td>\n",
       "      <td>0.0</td>\n",
       "      <td>0.0</td>\n",
       "      <td>0.0</td>\n",
       "      <td>0.0</td>\n",
       "      <td>0.0</td>\n",
       "      <td>0.0</td>\n",
       "      <td>0.0</td>\n",
       "      <td>0.0</td>\n",
       "      <td>0.0</td>\n",
       "      <td>0.0</td>\n",
       "    </tr>\n",
       "    <tr>\n",
       "      <th>2</th>\n",
       "      <td>0.0</td>\n",
       "      <td>0.0</td>\n",
       "      <td>0.0</td>\n",
       "      <td>0.0</td>\n",
       "      <td>0.0</td>\n",
       "      <td>0.0</td>\n",
       "      <td>0.0</td>\n",
       "      <td>0.0</td>\n",
       "      <td>0.0</td>\n",
       "      <td>0.0</td>\n",
       "      <td>...</td>\n",
       "      <td>0.0</td>\n",
       "      <td>0.0</td>\n",
       "      <td>0.0</td>\n",
       "      <td>0.0</td>\n",
       "      <td>0.0</td>\n",
       "      <td>0.0</td>\n",
       "      <td>0.0</td>\n",
       "      <td>0.0</td>\n",
       "      <td>0.0</td>\n",
       "      <td>0.0</td>\n",
       "    </tr>\n",
       "    <tr>\n",
       "      <th>3</th>\n",
       "      <td>0.0</td>\n",
       "      <td>0.0</td>\n",
       "      <td>0.0</td>\n",
       "      <td>0.0</td>\n",
       "      <td>0.0</td>\n",
       "      <td>0.0</td>\n",
       "      <td>0.0</td>\n",
       "      <td>0.0</td>\n",
       "      <td>0.0</td>\n",
       "      <td>0.0</td>\n",
       "      <td>...</td>\n",
       "      <td>0.0</td>\n",
       "      <td>0.0</td>\n",
       "      <td>0.0</td>\n",
       "      <td>0.0</td>\n",
       "      <td>0.0</td>\n",
       "      <td>0.0</td>\n",
       "      <td>0.0</td>\n",
       "      <td>0.0</td>\n",
       "      <td>0.0</td>\n",
       "      <td>0.0</td>\n",
       "    </tr>\n",
       "    <tr>\n",
       "      <th>4</th>\n",
       "      <td>0.0</td>\n",
       "      <td>0.0</td>\n",
       "      <td>0.0</td>\n",
       "      <td>0.0</td>\n",
       "      <td>0.0</td>\n",
       "      <td>0.0</td>\n",
       "      <td>0.0</td>\n",
       "      <td>0.0</td>\n",
       "      <td>0.0</td>\n",
       "      <td>0.0</td>\n",
       "      <td>...</td>\n",
       "      <td>0.0</td>\n",
       "      <td>0.0</td>\n",
       "      <td>0.0</td>\n",
       "      <td>0.0</td>\n",
       "      <td>0.0</td>\n",
       "      <td>0.0</td>\n",
       "      <td>0.0</td>\n",
       "      <td>0.0</td>\n",
       "      <td>0.0</td>\n",
       "      <td>0.0</td>\n",
       "    </tr>\n",
       "  </tbody>\n",
       "</table>\n",
       "<p>5 rows × 104 columns</p>\n",
       "</div>"
      ],
      "text/plain": [
       "   0.0  0.0.1  0.0.2  0.0.3  0.0.4  0.0.5  0.0.6  0.0.7  0.0.8  0.0.9  ...  \\\n",
       "0  0.0    0.0    0.0    0.0    0.0    0.0    0.0    0.0    0.0    0.0  ...   \n",
       "1  0.0    0.0    0.0    0.0    0.0    0.0    0.0    0.0    0.0    0.0  ...   \n",
       "2  0.0    0.0    0.0    0.0    0.0    0.0    0.0    0.0    0.0    0.0  ...   \n",
       "3  0.0    0.0    0.0    0.0    0.0    0.0    0.0    0.0    0.0    0.0  ...   \n",
       "4  0.0    0.0    0.0    0.0    0.0    0.0    0.0    0.0    0.0    0.0  ...   \n",
       "\n",
       "   0.0.82  0.0.83  0.0.84  0.0.85  0.0.86  0.0.87  0.0.88  0.0.89  0.0.90  \\\n",
       "0     0.0     0.0     0.0     0.0     0.0     0.0     0.0     0.0     0.0   \n",
       "1     0.0     0.0     0.0     0.0     0.0     0.0     0.0     0.0     0.0   \n",
       "2     0.0     0.0     0.0     0.0     0.0     0.0     0.0     0.0     0.0   \n",
       "3     0.0     0.0     0.0     0.0     0.0     0.0     0.0     0.0     0.0   \n",
       "4     0.0     0.0     0.0     0.0     0.0     0.0     0.0     0.0     0.0   \n",
       "\n",
       "   0.0.91  \n",
       "0     0.0  \n",
       "1     0.0  \n",
       "2     0.0  \n",
       "3     0.0  \n",
       "4     0.0  \n",
       "\n",
       "[5 rows x 104 columns]"
      ]
     },
     "execution_count": 9,
     "metadata": {},
     "output_type": "execute_result"
    }
   ],
   "source": [
    "df = pd.read_csv('lcd-digits.csv')\n",
    "df.head()"
   ]
  },
  {
   "cell_type": "markdown",
   "id": "2987910c",
   "metadata": {},
   "source": [
    "## Examine the data\n",
    "Use Pyplot to examine a selection of the different entries. First, each row needs to be transformed from a flattened array to a two dimensional array of 13 by 8."
   ]
  },
  {
   "cell_type": "code",
   "execution_count": 26,
   "id": "d23e20ee",
   "metadata": {},
   "outputs": [
    {
     "data": {
      "text/plain": [
       "(99, 104)"
      ]
     },
     "execution_count": 26,
     "metadata": {},
     "output_type": "execute_result"
    }
   ],
   "source": [
    "df.shape"
   ]
  },
  {
   "cell_type": "markdown",
   "id": "db9bf056",
   "metadata": {},
   "source": [
    "Extract values from dataframe:"
   ]
  },
  {
   "cell_type": "code",
   "execution_count": 35,
   "id": "a3116d03",
   "metadata": {},
   "outputs": [],
   "source": [
    "X = df.values"
   ]
  },
  {
   "cell_type": "markdown",
   "id": "0e310ed3",
   "metadata": {},
   "source": [
    "Resize array to (99, 13, 8)"
   ]
  },
  {
   "cell_type": "code",
   "execution_count": 64,
   "id": "54cccee6",
   "metadata": {},
   "outputs": [],
   "source": [
    "X = X.reshape(99, 13, 8)"
   ]
  },
  {
   "cell_type": "code",
   "execution_count": 88,
   "id": "edd315ff",
   "metadata": {},
   "outputs": [
    {
     "data": {
      "image/png": "[encoded data removed]",
      "text/plain": [
       "<Figure size 1000x1000 with 3 Axes>"
      ]
     },
     "metadata": {},
     "output_type": "display_data"
    }
   ],
   "source": [
    "selection_list = [41, 51, 54]\n",
    "plt.figure(figsize=(10, 10))\n",
    "for count, value in enumerate(selection_list):\n",
    "    plt.subplot(1, 3, count + 1)\n",
    "    plt.imshow(X[value, :,:], cmap='gray_r')\n",
    "    plt.title(f'Entry {value}')\n",
    "    plt.axis('off')"
   ]
  },
  {
   "cell_type": "markdown",
   "id": "ae3f7729",
   "metadata": {},
   "source": [
    "## NMF model\n",
    "Because all entries are non-negative, NMF can reduce the dimensions (columns) of the dataset from 104 to n.<br>\n",
    "Create a NMF model with SK-learn. Set number of components to be n=7 (the total number of components to make all numbers on an LCD display.)"
   ]
  },
  {
   "cell_type": "code",
   "execution_count": 133,
   "id": "20a255e1",
   "metadata": {},
   "outputs": [],
   "source": [
    "nmf = NMF(n_components=7)"
   ]
  },
  {
   "cell_type": "markdown",
   "id": "ebcae105",
   "metadata": {},
   "source": [
    "Fit the model to the dataset and transform:"
   ]
  },
  {
   "cell_type": "code",
   "execution_count": 134,
   "id": "539b2c37",
   "metadata": {},
   "outputs": [],
   "source": [
    "fitted_model = nmf.fit_transform(df.values)"
   ]
  },
  {
   "cell_type": "markdown",
   "id": "b830bff0",
   "metadata": {},
   "source": [
    "Draw each NMF component:"
   ]
  },
  {
   "cell_type": "code",
   "execution_count": 135,
   "id": "e1b70995",
   "metadata": {},
   "outputs": [
    {
     "data": {
      "image/png": "[encoded data removed]",
      "text/plain": [
       "<Figure size 1000x1000 with 7 Axes>"
      ]
     },
     "metadata": {},
     "output_type": "display_data"
    }
   ],
   "source": [
    "plt.figure(figsize=(10, 10))\n",
    "for count, value in enumerate(nmf.components_):\n",
    "    bitmap = value.reshape(13, 8)\n",
    "    plt.subplot(1, 7, count + 1)\n",
    "    plt.imshow(bitmap, cmap='gray_r')\n"
   ]
  },
  {
   "cell_type": "markdown",
   "id": "7f7a28e1",
   "metadata": {},
   "source": [
    "Every digit can be displayed as some combination of the above components. The model has learnt the pattern of pixels for each component."
   ]
  },
  {
   "cell_type": "code",
   "execution_count": null,
   "id": "6220ed2c",
   "metadata": {},
   "outputs": [],
   "source": []
  }
 ],
 "metadata": {
  "kernelspec": {
   "display_name": "Python 3 (ipykernel)",
   "language": "python",
   "name": "python3"
  },
  "language_info": {
   "codemirror_mode": {
    "name": "ipython",
    "version": 3
   },
   "file_extension": ".py",
   "mimetype": "text/x-python",
   "name": "python",
   "nbconvert_exporter": "python",
   "pygments_lexer": "ipython3",
   "version": "3.10.0"
  }
 },
 "nbformat": 4,
 "nbformat_minor": 5
}
